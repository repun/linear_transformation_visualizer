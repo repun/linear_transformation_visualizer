{
 "cells": [
  {
   "cell_type": "code",
   "execution_count": null,
   "metadata": {},
   "outputs": [],
   "source": [
    "import numpy as np\n",
    "import matplotlib.pyplot as plt\n",
    "from celluloid import Camera\n",
    "from IPython.display import HTML"
   ]
  },
  {
   "cell_type": "markdown",
   "metadata": {},
   "source": [
    "Set your 2 by 2 linear transformation matrix"
   ]
  },
  {
   "cell_type": "code",
   "execution_count": null,
   "metadata": {},
   "outputs": [],
   "source": [
    "A = np.array([[1, 2],\n",
    "              [-2, -1]])"
   ]
  },
  {
   "cell_type": "code",
   "execution_count": null,
   "metadata": {},
   "outputs": [],
   "source": [
    "def make_video(matrix, draw_unit_vector=True, draw_eig_vector=True):\n",
    "    \n",
    "    X = np.linspace(-40, 40, 41)\n",
    "    Y = np.linspace(-40, 40, 41)\n",
    "    \n",
    "    fig = plt.figure(figsize=(10, 10))\n",
    "    camera = Camera(fig)\n",
    "    \n",
    "    plt.xlim(-7, 7)\n",
    "    plt.ylim(-7, 7)\n",
    "    plt.xticks(range(-7, 8))\n",
    "    plt.yticks(range(-7, 8))\n",
    "    plt.title(f'{matrix}', size=25)\n",
    "    plt.grid()\n",
    "    \n",
    "    if draw_eig_vector:\n",
    "        e_val, e_vec =np.linalg.eig(matrix)\n",
    "        \n",
    "        if np.isreal(e_val).all():\n",
    "            # draw textbox\n",
    "            e_vec1_str = f'eigenvector1: [{e_vec.T[0][0]:.2f}, {e_vec.T[0][1]:.2f}]'\n",
    "            e_vec2_str = f'eigenvector2: [{e_vec.T[1][0]:.2f}, {e_vec.T[1][1]:.2f}]'\n",
    "            textstr = f'eigenvalues: {e_val[0]:.2f}, {e_val[1]:.2f} \\n {e_vec1_str} \\n {e_vec2_str}'\n",
    "            props = dict(boxstyle='round', facecolor='wheat', alpha=0.5)\n",
    "            plt.gcf().text(0.15, 0.8, textstr, fontsize=13, bbox=props)\n",
    "            \n",
    "        else:\n",
    "            print('Complex Eigenvalue!')\n",
    "            draw_eig_vector = False\n",
    "        \n",
    "    if draw_unit_vector:\n",
    "        u_vec = np.eye(2)\n",
    "    \n",
    "    total_frame = 100\n",
    "    for frame in range(total_frame+1):\n",
    "        \n",
    "        # slightly pause video at the beginning and end\n",
    "        pause_frame = 20\n",
    "        if frame < pause_frame:\n",
    "            matrix_ = np.eye(2)\n",
    "        elif frame >= total_frame - pause_frame:\n",
    "            matrix_ = matrix\n",
    "        else:\n",
    "            matrix_ = np.eye(2)*(1 - (frame-pause_frame)/(total_frame-2*pause_frame)) + matrix*((frame-pause_frame)/(total_frame-2*pause_frame))\n",
    "        \n",
    "        # draw transforming grid lines\n",
    "        for x in X:\n",
    "            \n",
    "            if x == 0:\n",
    "                lw = 2.0\n",
    "            else:\n",
    "                lw = 1.0\n",
    "                \n",
    "            v_line = matrix_ @ np.array([[x, x], [-40, 40]])\n",
    "            plt.plot(v_line[0], v_line[1], c='b', lw=lw, linestyle='--')\n",
    "\n",
    "            h_line = matrix_ @ (np.array([[-40, 40], [x, x]]))\n",
    "            plt.plot(h_line[0], h_line[1], c='y', lw=lw, linestyle='--')\n",
    "        \n",
    "        # draw eigenvectors\n",
    "        if draw_eig_vector:\n",
    "            e_vec_1 = matrix_ @ e_vec.T[0]\n",
    "            plt.arrow(0, 0, e_vec_1[0], e_vec_1[1], width=0.05, length_includes_head=True, color='r')\n",
    "            plt.text(e_vec_1[0], e_vec_1[1], f'{np.linalg.norm(e_vec_1):.2f}', fontsize=13)\n",
    "\n",
    "            e_vec_2 = matrix_ @ e_vec.T[1]\n",
    "            plt.arrow(0, 0, e_vec_2[0], e_vec_2[1], width=0.05, length_includes_head=True, color='r')\n",
    "            plt.text(e_vec_2[0], e_vec_2[1], f'{np.linalg.norm(e_vec_2):.2f}', fontsize=13)\n",
    "            \n",
    "        # draw unit vectors\n",
    "        if draw_unit_vector:\n",
    "            h_unit = matrix_ @ u_vec[0]\n",
    "            plt.arrow(0, 0, h_unit[0], h_unit[1], width=0.05, length_includes_head=True, color='k')\n",
    "            plt.text(h_unit[0], h_unit[1], f'[{h_unit[0]:.2f}, {h_unit[1]:.2f}]', fontsize=13)\n",
    "\n",
    "            v_unit = matrix_ @ u_vec[1]\n",
    "            plt.arrow(0, 0, v_unit[0], v_unit[1], width=0.05, length_includes_head=True, color='k')\n",
    "            plt.text(v_unit[0], v_unit[1], f'[{v_unit[0]:.2f}, {v_unit[1]:.2f}]', fontsize=13)\n",
    "            \n",
    "        camera.snap()\n",
    "        \n",
    "    plt.close()\n",
    "        \n",
    "    animation = camera.animate(interval=50, blit=True)\n",
    "        \n",
    "    return animation"
   ]
  },
  {
   "cell_type": "markdown",
   "metadata": {},
   "source": [
    "Make video and watch"
   ]
  },
  {
   "cell_type": "code",
   "execution_count": null,
   "metadata": {},
   "outputs": [],
   "source": [
    "animation = make_video(A, draw_unit_vector=True, draw_eig_vector=True)\n",
    "HTML(animation.to_html5_video())"
   ]
  },
  {
   "cell_type": "markdown",
   "metadata": {},
   "source": [
    "Save the video as mp4"
   ]
  },
  {
   "cell_type": "code",
   "execution_count": null,
   "metadata": {},
   "outputs": [],
   "source": [
    "animation.save('linear_transformation.mp4', dpi=100, savefig_kwargs={'frameon': False,'pad_inches': 'tight'})"
   ]
  }
 ],
 "metadata": {
  "kernelspec": {
   "display_name": "Python 3",
   "language": "python",
   "name": "python3"
  },
  "language_info": {
   "codemirror_mode": {
    "name": "ipython",
    "version": 3
   },
   "file_extension": ".py",
   "mimetype": "text/x-python",
   "name": "python",
   "nbconvert_exporter": "python",
   "pygments_lexer": "ipython3",
   "version": "3.7.4"
  }
 },
 "nbformat": 4,
 "nbformat_minor": 2
}
